{
  "cells": [
    {
      "cell_type": "markdown",
      "metadata": {},
      "source": [
        "\n\n# Multi blade row meshing example\nThis basic example shows how to set up a multi blade row meshing instance and execute it in parallel.\n"
      ]
    },
    {
      "cell_type": "markdown",
      "metadata": {},
      "source": [
        "## Perform required imports\nPerform the required imports. It is assumed that the ``ansys-turbogrid-core``\npackage has been installed.\n\n"
      ]
    },
    {
      "cell_type": "code",
      "execution_count": null,
      "metadata": {
        "collapsed": false
      },
      "outputs": [],
      "source": [
        "import os\nimport pathlib\n\nfrom ansys.turbogrid.core.multi_blade_row.multi_blade_row_batch import MultiBladeRow"
      ]
    },
    {
      "cell_type": "markdown",
      "metadata": {},
      "source": [
        "## Create and use a MultiBladeRow instance\nCreate a MultiBladeRow instance, set it up for a multi blade row case and execute.\n\n"
      ]
    },
    {
      "cell_type": "code",
      "execution_count": null,
      "metadata": {
        "collapsed": false
      },
      "outputs": [],
      "source": [
        "if __name__ == \"__main__\":\n    # Set working directory.\n    working_directory = os.getcwd()\n\n    # NDF file for this example.\n    # Credits for the design go to: https://www.conceptsnrec.com/home\n    # \u00a9 Copyright 2024 Concepts NREC\n    ndf_file_name = \"AxialFanMultiRow.ndf\"\n\n    # Build the path to the test data folder\n    test_data_path = pathlib.PurePath(__file__).parent.parent.as_posix()\n    test_data_path = os.path.join(test_data_path, \"tests\")\n    test_data_path = os.path.join(test_data_path, \"ndf\")\n\n    # Create a MultiBladeRow instance.\n    mbr_instance = MultiBladeRow(working_directory, test_data_path, ndf_file_name)\n\n    # Set up some settings.\n    mbr_instance.set_spanwise_counts(56, 73)\n    mbr_instance.set_global_size_factor(1.5)\n    mbr_instance.set_blade_boundary_layer_offsets(6e-6)\n\n    # Call the execute method to perform the meshing.\n    mbr_instance.execute()"
      ]
    }
  ],
  "metadata": {
    "kernelspec": {
      "display_name": "Python 3",
      "language": "python",
      "name": "python3"
    },
    "language_info": {
      "codemirror_mode": {
        "name": "ipython",
        "version": 3
      },
      "file_extension": ".py",
      "mimetype": "text/x-python",
      "name": "python",
      "nbconvert_exporter": "python",
      "pygments_lexer": "ipython3",
      "version": "3.10.18"
    }
  },
  "nbformat": 4,
  "nbformat_minor": 0
}