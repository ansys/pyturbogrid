{
  "cells": [
    {
      "cell_type": "markdown",
      "metadata": {},
      "source": [
        "\n\n# Mesh Statistics Report\n\nThis example demonstrates how to use the mesh_statistics module and CCL queries to generate a\nsimple report.\n\nThe jinja library is used to produce the report in HTML format, starting from the report\ntemplate file \"report_template.html\".\n"
      ]
    },
    {
      "cell_type": "code",
      "execution_count": null,
      "metadata": {
        "collapsed": false
      },
      "outputs": [],
      "source": [
        "from collections import OrderedDict\nfrom datetime import date\nimport os.path as ospath\n\nfrom ansys.turbogrid.api.cfx.ccl_object_db import CCLObjectDB\nfrom jinja2 import Environment, FileSystemLoader\n\nfrom ansys.turbogrid.core.launcher.launcher import get_turbogrid_exe_path, launch_turbogrid\nfrom ansys.turbogrid.core.mesh_statistics import mesh_statistics"
      ]
    },
    {
      "cell_type": "markdown",
      "metadata": {},
      "source": [
        "Set up a TurboGrid session with a basic case and mesh, similar to the\n`read_inf_rotor37` example.\n\n"
      ]
    },
    {
      "cell_type": "code",
      "execution_count": null,
      "metadata": {
        "collapsed": false
      },
      "outputs": [],
      "source": [
        "turbogrid = launch_turbogrid()\nexec_path = get_turbogrid_exe_path()\nturbogrid_install_location = \"/\".join(exec_path.parts[:-2])\nturbogrid_install_location = turbogrid_install_location.replace(\"\\\\\", \"\")\nexamples_path_str = turbogrid_install_location + \"/examples\"\nif not ospath.isdir(examples_path_str):\n    print(\"examples folder not found in the TurboGrid installation\")\n    exit()\nturbogrid.read_inf(examples_path_str + \"/rotor37/BladeGen.inf\")\nturbogrid.unsuspend(object=\"/TOPOLOGY SET\")"
      ]
    },
    {
      "cell_type": "markdown",
      "metadata": {},
      "source": [
        "Determine which domains are available by querying the CCL (TurboGrid command\nlanguage).\n\n"
      ]
    },
    {
      "cell_type": "code",
      "execution_count": null,
      "metadata": {
        "collapsed": false
      },
      "outputs": [],
      "source": [
        "ALL_DOMAINS = \"ALL\"\nccl_db = CCLObjectDB(turbogrid)\ndomain_list = [obj.get_name() for obj in ccl_db.get_objects_by_type(\"DOMAIN\")]\ndomain_list.append(ALL_DOMAINS)"
      ]
    },
    {
      "cell_type": "markdown",
      "metadata": {},
      "source": [
        "Set up the information to be shown under 'Case Details' in the report.\n\n"
      ]
    },
    {
      "cell_type": "code",
      "execution_count": null,
      "metadata": {
        "collapsed": false
      },
      "outputs": [],
      "source": [
        "case_info = OrderedDict()\ncase_info[\"Case Name\"] = \"rotor37\"\ncase_info[\"Number of Bladesets\"] = ccl_db.get_object_by_path(\"/GEOMETRY/MACHINE DATA\").get_value(\n    \"Bladeset Count\"\n)\ncase_info[\"Report Date\"] = date.today()"
      ]
    },
    {
      "cell_type": "markdown",
      "metadata": {},
      "source": [
        "Create the MeshStatistics object for obtaining the mesh statistics.\n\n"
      ]
    },
    {
      "cell_type": "code",
      "execution_count": null,
      "metadata": {
        "collapsed": false
      },
      "outputs": [],
      "source": [
        "ms = mesh_statistics.MeshStatistics(turbogrid)"
      ]
    },
    {
      "cell_type": "markdown",
      "metadata": {},
      "source": [
        "Calculate and store the basic mesh statistics for each domain separately and\nfor 'All Domains'.\n\n"
      ]
    },
    {
      "cell_type": "code",
      "execution_count": null,
      "metadata": {
        "collapsed": false
      },
      "outputs": [],
      "source": [
        "domain_count = dict()\nfor domain in domain_list:\n    ms.update_mesh_statistics(domain)\n    domain_count[ms.get_domain_label(domain)] = ms.get_mesh_statistics().copy()"
      ]
    },
    {
      "cell_type": "markdown",
      "metadata": {},
      "source": [
        "Ensure that the currently-loaded mesh statistics are for all domains.\n\n"
      ]
    },
    {
      "cell_type": "code",
      "execution_count": null,
      "metadata": {
        "collapsed": false
      },
      "outputs": [],
      "source": [
        "ms.update_mesh_statistics(ALL_DOMAINS)\nall_dom_stats = ms.get_mesh_statistics()"
      ]
    },
    {
      "cell_type": "markdown",
      "metadata": {},
      "source": [
        "Get the mesh statistics table information in a form that can easily be used to\ngenerate the table in the report.\n\n"
      ]
    },
    {
      "cell_type": "code",
      "execution_count": null,
      "metadata": {
        "collapsed": false
      },
      "outputs": [],
      "source": [
        "stat_table_rows = ms.get_table_rows()"
      ]
    },
    {
      "cell_type": "markdown",
      "metadata": {},
      "source": [
        "Generate the histogram figures for all required mesh quality measures.\n\n"
      ]
    },
    {
      "cell_type": "code",
      "execution_count": null,
      "metadata": {
        "collapsed": false
      },
      "outputs": [],
      "source": [
        "hist_var_list = [\"Minimum Face Angle\", \"Skewness\"]\nhist_dict = dict()\nfor var in hist_var_list:\n    file_name = \"tg_hist_\" + var + \".png\"\n    var_units = all_dom_stats[var][\"Units\"]\n    if var_units == \"rad\":\n        var_units = \"deg\"\n    ms.create_histogram(\n        variable=var, use_percentages=True, bin_units=var_units, image_file=file_name, show=False\n    )\n    hist_dict[var] = file_name"
      ]
    },
    {
      "cell_type": "markdown",
      "metadata": {},
      "source": [
        "Quit the TurboGrid session as all of the relevant information has now been\nassembled.\n\n"
      ]
    },
    {
      "cell_type": "code",
      "execution_count": null,
      "metadata": {
        "collapsed": false
      },
      "outputs": [],
      "source": [
        "turbogrid.quit()"
      ]
    },
    {
      "cell_type": "markdown",
      "metadata": {},
      "source": [
        "Set up the jinja library with the relevant template and data.\n\n"
      ]
    },
    {
      "cell_type": "code",
      "execution_count": null,
      "metadata": {
        "collapsed": false
      },
      "outputs": [],
      "source": [
        "environment = Environment(loader=FileSystemLoader(ospath.dirname(__file__)))\nhtml_template = environment.get_template(\"report_template.html\")\nhtml_context = {\n    \"case_info\": case_info,\n    \"domain_count\": domain_count,\n    \"stat_table_rows\": stat_table_rows,\n    \"hist_dict\": hist_dict,\n}"
      ]
    },
    {
      "cell_type": "markdown",
      "metadata": {},
      "source": [
        "Generate the html report.\n\n"
      ]
    },
    {
      "cell_type": "code",
      "execution_count": null,
      "metadata": {
        "collapsed": false
      },
      "outputs": [],
      "source": [
        "filename = f\"tg_report.html\"\ncontent = html_template.render(html_context)\nwith open(filename, mode=\"w\", encoding=\"utf-8\") as message:\n    message.write(content)\n    print(f\"... wrote {filename}\")"
      ]
    }
  ],
  "metadata": {
    "kernelspec": {
      "display_name": "Python 3",
      "language": "python",
      "name": "python3"
    },
    "language_info": {
      "codemirror_mode": {
        "name": "ipython",
        "version": 3
      },
      "file_extension": ".py",
      "mimetype": "text/x-python",
      "name": "python",
      "nbconvert_exporter": "python",
      "pygments_lexer": "ipython3",
      "version": "3.10.11"
    }
  },
  "nbformat": 4,
  "nbformat_minor": 0
}