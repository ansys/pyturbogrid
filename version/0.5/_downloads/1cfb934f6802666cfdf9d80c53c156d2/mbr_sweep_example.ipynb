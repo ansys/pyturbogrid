{
  "cells": [
    {
      "cell_type": "markdown",
      "metadata": {},
      "source": [
        "\n\n# Multi blade row meshing example\nThis basic example shows how to set up a multi blade row meshing instance and execute it in parallel.\n"
      ]
    },
    {
      "cell_type": "markdown",
      "metadata": {},
      "source": [
        "## Perform required imports\nPerform the required imports. It is assumed that the ``ansys-turbogrid-core``\npackage has been installed.\n\n"
      ]
    },
    {
      "cell_type": "code",
      "execution_count": null,
      "metadata": {
        "collapsed": false
      },
      "outputs": [],
      "source": [
        "import pathlib\nimport time\n\ninstall_path = pathlib.PurePath(__file__).parent.parent.as_posix()\n\nfrom ansys.turbogrid.core.multi_blade_row.multi_blade_row import MachineSizingStrategy\nfrom ansys.turbogrid.core.multi_blade_row.multi_blade_row import multi_blade_row as MBR\n\nall_face_areas = {}\nall_element_counts = {}"
      ]
    },
    {
      "cell_type": "markdown",
      "metadata": {},
      "source": [
        "## Create a multi_blade_row and initialize it\nUse the Concepts NREC sample provided.\n\n"
      ]
    },
    {
      "cell_type": "code",
      "execution_count": null,
      "metadata": {
        "collapsed": false
      },
      "outputs": [],
      "source": [
        "start_time = time.time()\nprint(f\"Start time: {time.asctime(time.localtime())}\")\nmachine = MBR()\nmachine.init_from_ndf(\n    f\"{install_path}/tests/ndf/AxialFanMultiRow.ndf\",\n    # use_existing_tginit_cad=True, # Use this if you've already generated the CAD\n)\n# machine.plot_machine()\nbrs = machine.get_blade_row_names()\noriginal_face_areas = machine.get_average_base_face_areas()\nprint(f\"original_face_areas: {original_face_areas}\")\nmachine.plot_machine()"
      ]
    },
    {
      "cell_type": "markdown",
      "metadata": {},
      "source": [
        "## Set the sizing strategy for the machine\nIf this is omitted, the defaults for TurboGrid will be used.\n\n"
      ]
    },
    {
      "cell_type": "code",
      "execution_count": null,
      "metadata": {
        "collapsed": false
      },
      "outputs": [],
      "source": [
        "machine.set_machine_sizing_strategy(MachineSizingStrategy.MIN_FACE_AREA)"
      ]
    },
    {
      "cell_type": "markdown",
      "metadata": {},
      "source": [
        "## Sweep a parameter\nIn this case, increase the global size factor, and measure the (base) layer face areas, and the element counts.\n\n"
      ]
    },
    {
      "cell_type": "code",
      "execution_count": null,
      "metadata": {
        "collapsed": false
      },
      "outputs": [],
      "source": [
        "for factor in [1, 1.5, 2]:\n    all_face_areas[factor] = []\n    all_element_counts[factor] = []\n    machine.set_machine_size_factor(factor)\n    all_face_areas[factor] = machine.get_average_base_face_areas()\n    all_element_counts[factor] = machine.get_element_counts()\n\nend_time = time.time()\nprint(f\"End time: {time.asctime(time.localtime())}\")\nprint(f\"Duration: {(end_time-start_time)/60} minutes\")\nprint(f\"Average Base Face Sizes\")\nprint(f\"Blade Rows: {', '.join(brs)}\")\nfor size_factor, face_areas in all_face_areas.items():\n    print(\n        f\"\"\"machine size_factor {size_factor}: {', '.join([f\"{value:.6e}\" for value in face_areas.values()])}  \"\"\"\n    )\nprint(f\"Element Counts\")\nprint(f\"Blade Rows: {', '.join(brs)}\")\nfor size_factor, element_counts in all_element_counts.items():\n    print(\n        f\"\"\"machine size_factor {size_factor}: {', '.join(str(value) for value in element_counts.values())}  \"\"\"\n    )"
      ]
    }
  ],
  "metadata": {
    "kernelspec": {
      "display_name": "Python 3",
      "language": "python",
      "name": "python3"
    },
    "language_info": {
      "codemirror_mode": {
        "name": "ipython",
        "version": 3
      },
      "file_extension": ".py",
      "mimetype": "text/x-python",
      "name": "python",
      "nbconvert_exporter": "python",
      "pygments_lexer": "ipython3",
      "version": "3.10.18"
    }
  },
  "nbformat": 4,
  "nbformat_minor": 0
}