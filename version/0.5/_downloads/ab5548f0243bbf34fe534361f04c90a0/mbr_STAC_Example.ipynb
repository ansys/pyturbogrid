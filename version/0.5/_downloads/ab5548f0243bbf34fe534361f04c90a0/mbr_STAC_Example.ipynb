{
  "cells": [
    {
      "cell_type": "markdown",
      "metadata": {},
      "source": [
        "\n\n# Multi-blade STAC example\nThis  example shows how to set up a multi blade row meshing instance using a TGMachine file. It is  based on the\nSTAC machine, a case provided by the Institute of Thermal Turbomachinery and Machinery Laboratory at the University of Stuttgart.\n\nFor the details see the paper on the STAC Machine: https://www.itsm.uni-stuttgart.de/en/research/test-cases/STAC/,  DOI: 10.1177/0957650919833207\n"
      ]
    },
    {
      "cell_type": "code",
      "execution_count": null,
      "metadata": {
        "collapsed": false
      },
      "outputs": [],
      "source": [
        "import pathlib\n\nfrom ansys.turbogrid.core.multi_blade_row.multi_blade_row import MachineSizingStrategy\nfrom ansys.turbogrid.core.multi_blade_row.multi_blade_row import multi_blade_row as MBR\n\ninstall_path = pathlib.PurePath(__file__).parent.parent.as_posix()\n\n# initialize a multiblade row object\nmbr = MBR()\n\n# blade rows can be initialized from curve files using the init_from_tgmachine function\n# path to the tgmachine file needs to be provided\n# the tg machine file lists the inf files of all rows, must be in correct order --> within inf files path to curve files are given\n\n# Define Interface Method in TGMachine file:\n# shroud and hub curve for length of individual rows --> \"Fully Extend\"\n# shroud and hub curve for entire length of all rows --> \"Neighbors\"\n\ntg_machine_path = f\"{install_path}/tests/STAC/STAC.TGMachine\"\nprint(f\"path =  {tg_machine_path}\")\nmbr.init_from_tgmachine(tgmachine_path=tg_machine_path)"
      ]
    },
    {
      "cell_type": "markdown",
      "metadata": {},
      "source": [
        "SETTING SPECIFIC PARAMETERS\nTo set specific parameters for the individual blade rows, the pyturbogrid instance of the row can be accessed via the mbr.tg_worker_instances dictionary\nTo do so the set_obj_param function is used with the keywords from the command editor in TurboGrid\nExample: \"Number Of Outlet Elements = 5\" in MESH DATA -->  set_obj_param(object='/MESH DATA',param_val_pairs='Number Of Outlet Elements = 5')\n\n"
      ]
    },
    {
      "cell_type": "code",
      "execution_count": null,
      "metadata": {
        "collapsed": false
      },
      "outputs": [],
      "source": [
        "# Setting constant spanwise elements\n\n\ndef setting_spanwise_elements(\n    turbogrid_instance, number_of_spanwise_elemenst, num_const_elements_spanwise\n):\n    \"\"\"\n    Function to set the spanwise elements for a given TurboGrid instance.\n    \"\"\"\n    turbogrid_instance.set_obj_param(\n        object=\"/MESH DATA\",\n        param_val_pairs=\"Spanwise Blade Distribution Option = Element Count and Size\",\n    )\n    turbogrid_instance.set_obj_param(\n        object=\"/MESH DATA\",\n        param_val_pairs=f\"Number Of Spanwise Blade Elements = {number_of_spanwise_elemenst}\",\n    )\n    turbogrid_instance.set_obj_param(\n        object=\"/MESH DATA\",\n        param_val_pairs=f\"Number Of Constant Spanwise Blade Elements = {num_const_elements_spanwise}\",\n    )\n    turbogrid_instance.unsuspend(object=\"/TOPOLOGY SET\")\n\n\nnum_elements_spanwise = 70\nnum_const_elements_spanwise = 20\n\nsetting_spanwise_elements(\n    mbr.tg_worker_instances[\"S1.inf\"].pytg, num_elements_spanwise, num_const_elements_spanwise\n)\nsetting_spanwise_elements(\n    mbr.tg_worker_instances[\"R1.inf\"].pytg, num_elements_spanwise, num_const_elements_spanwise\n)\nsetting_spanwise_elements(\n    mbr.tg_worker_instances[\"S0.inf\"].pytg, num_elements_spanwise, num_const_elements_spanwise\n)\nsetting_spanwise_elements(\n    mbr.tg_worker_instances[\"R0.inf\"].pytg, num_elements_spanwise, num_const_elements_spanwise\n)"
      ]
    },
    {
      "cell_type": "code",
      "execution_count": null,
      "metadata": {
        "collapsed": false
      },
      "outputs": [],
      "source": [
        "# Setting the meshing strategy: MIN_FACE_AREA --> attempts to size each blade row so that the element sizes are all equal (allows for smooth mesh transition between the rows)\n# alternative MachineSizingStrategy is None\nmbr.set_machine_sizing_strategy(MachineSizingStrategy.MIN_FACE_AREA)\n\n\n# Set the entire machine's size factor\n# In combination with MachineSizingStrategy.MIN_FACE_AREA this value will define the base size factor for the row with the smallest face area\nmbr.set_machine_size_factor(0.2)\n\n# instead of machine size factor one can also specify the target number of elements each row should have\n# mbr.set_machine_target_node_count(2000000)\n\n# get an overview of element numbers\nelement_num = mbr.get_element_counts()\nprint(\n    f\"element numbers \\n S1: {element_num['S1.inf']} elements \\n R1: {element_num['R1.inf']} elements \\n S0: {element_num['S0.inf']} elements \\n R0: {element_num['R0.inf']} elements \\n Total: {sum(element_num.values())} elements\"\n)\n\n\n# save a def files for all balde rows, which can be opened in CFX pre\nmbr.save_meshes()\n\n# allowing shut down (should be mbr.quit() --> fix in next release )\nmbr.tg_worker_instances = None"
      ]
    }
  ],
  "metadata": {
    "kernelspec": {
      "display_name": "Python 3",
      "language": "python",
      "name": "python3"
    },
    "language_info": {
      "codemirror_mode": {
        "name": "ipython",
        "version": 3
      },
      "file_extension": ".py",
      "mimetype": "text/x-python",
      "name": "python",
      "nbconvert_exporter": "python",
      "pygments_lexer": "ipython3",
      "version": "3.10.18"
    }
  },
  "nbformat": 4,
  "nbformat_minor": 0
}