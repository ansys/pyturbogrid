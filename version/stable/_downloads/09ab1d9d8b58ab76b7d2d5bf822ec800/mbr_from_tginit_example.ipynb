{
  "cells": [
    {
      "cell_type": "markdown",
      "metadata": {},
      "source": [
        "\n\n# Multi blade row meshing example\nThis basic example shows how to set up a multi blade row meshing instance and execute it in parallel.\n"
      ]
    },
    {
      "cell_type": "markdown",
      "metadata": {},
      "source": [
        "## Perform required imports\nPerform the required imports. It is assumed that the ``ansys-turbogrid-core``\npackage has been installed.\n\n"
      ]
    },
    {
      "cell_type": "code",
      "execution_count": null,
      "metadata": {
        "collapsed": false
      },
      "outputs": [],
      "source": [
        "import pathlib\nimport time\n\ninstall_path = pathlib.PurePath(__file__).parent.parent.as_posix()\n\n# from ansys.turbogrid.core.multi_blade_row.multi_blade_row import MachineSizingStrategy\nfrom ansys.turbogrid.core.multi_blade_row.multi_blade_row import multi_blade_row as MBR"
      ]
    },
    {
      "cell_type": "markdown",
      "metadata": {},
      "source": [
        "## Create a multi_blade_row and initialize it\nUse the Concepts NREC sample provided.\n\n"
      ]
    },
    {
      "cell_type": "code",
      "execution_count": null,
      "metadata": {
        "collapsed": false
      },
      "outputs": [],
      "source": [
        "start_time = time.time()\nprint(f\"Start time: {time.asctime(time.localtime())}\")\nmachine = MBR()\nprint(machine)\ntginit_path = machine.convert_ndf_to_tginit(f\"{install_path}/tests/ndf/AxialFanMultiRow.ndf\")\nprint(tginit_path)\nblade_rows = machine.get_blade_rows_from_ndf(f\"{install_path}/tests/ndf/AxialFanMultiRow.ndf\")\nprint(blade_rows)"
      ]
    }
  ],
  "metadata": {
    "kernelspec": {
      "display_name": "Python 3",
      "language": "python",
      "name": "python3"
    },
    "language_info": {
      "codemirror_mode": {
        "name": "ipython",
        "version": 3
      },
      "file_extension": ".py",
      "mimetype": "text/x-python",
      "name": "python",
      "nbconvert_exporter": "python",
      "pygments_lexer": "ipython3",
      "version": "3.10.18"
    }
  },
  "nbformat": 4,
  "nbformat_minor": 0
}