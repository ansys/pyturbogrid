{
  "cells": [
    {
      "cell_type": "markdown",
      "metadata": {},
      "source": [
        "\n\n# Basic mesh generation\nThis basic example shows how to launch PyTurboGrid, load a blade model\nby reading an INF file, and generate a mesh.\n"
      ]
    },
    {
      "cell_type": "markdown",
      "metadata": {},
      "source": [
        "## Model overview\n\n<img src=\"file://../_static/rotor37_overview.png\" width=\"400\" alt=\"Model overview.\" align=\"center\">\n\n\n"
      ]
    },
    {
      "cell_type": "markdown",
      "metadata": {},
      "source": [
        "## Perform required imports\nPerform the required imports. It is assumed that the ``ansys-turbogrid-core``\npackage has been installed.\n\n"
      ]
    },
    {
      "cell_type": "code",
      "execution_count": null,
      "metadata": {
        "collapsed": false
      },
      "outputs": [],
      "source": [
        "import json\nimport os.path as ospath\n\nfrom ansys.turbogrid.core.launcher.launcher import get_turbogrid_exe_path, launch_turbogrid"
      ]
    },
    {
      "cell_type": "markdown",
      "metadata": {},
      "source": [
        "## Launch TurboGrid instance\nLaunch a TurboGrid instance in the most basic way.\n\n"
      ]
    },
    {
      "cell_type": "code",
      "execution_count": null,
      "metadata": {
        "collapsed": false
      },
      "outputs": [],
      "source": [
        "turbogrid = launch_turbogrid()"
      ]
    },
    {
      "cell_type": "markdown",
      "metadata": {},
      "source": [
        "## Find TurboGrid examples\nFind the ``examples`` folder for TurboGrid based on the path to the directory\nwhere it is installed. Calling the ``get_turbogrid_exe_path()`` method ensures\nuse of the ``examples`` folder in the current TurboGrid installation.\n\n"
      ]
    },
    {
      "cell_type": "code",
      "execution_count": null,
      "metadata": {
        "collapsed": false
      },
      "outputs": [],
      "source": [
        "exec_path = get_turbogrid_exe_path()\nturbogrid_install_location = \"/\".join(exec_path.parts[:-2])\nturbogrid_install_location = turbogrid_install_location.replace(\"\\\\\", \"\")\nexamples_path_str = turbogrid_install_location + \"/examples\""
      ]
    },
    {
      "cell_type": "markdown",
      "metadata": {},
      "source": [
        "## Ensure folder with examples exists\nEnsure that the ``examples`` folder exists.\n\n"
      ]
    },
    {
      "cell_type": "code",
      "execution_count": null,
      "metadata": {
        "collapsed": false
      },
      "outputs": [],
      "source": [
        "if not ospath.isdir(examples_path_str):\n    print(\"examples folder not found in the TurboGrid installation\")\n    exit()"
      ]
    },
    {
      "cell_type": "markdown",
      "metadata": {},
      "source": [
        "## Read file for rotor37 example\nRead the BladeGen INF file for the rotor37 example.\n\n"
      ]
    },
    {
      "cell_type": "code",
      "execution_count": null,
      "metadata": {
        "collapsed": false
      },
      "outputs": [],
      "source": [
        "turbogrid.read_inf(examples_path_str + \"/rotor37/BladeGen.inf\")"
      ]
    },
    {
      "cell_type": "markdown",
      "metadata": {},
      "source": [
        "## Generate mesh\nGenerate a mesh with the default settings.\n\n"
      ]
    },
    {
      "cell_type": "code",
      "execution_count": null,
      "metadata": {
        "collapsed": false
      },
      "outputs": [],
      "source": [
        "turbogrid.unsuspend(object=\"/TOPOLOGY SET\")"
      ]
    },
    {
      "cell_type": "markdown",
      "metadata": {},
      "source": [
        "## Get mesh statistics\nGet the mesh statistics from the current session.\n\n"
      ]
    },
    {
      "cell_type": "code",
      "execution_count": null,
      "metadata": {
        "collapsed": false
      },
      "outputs": [],
      "source": [
        "stats = turbogrid.query_mesh_statistics()"
      ]
    },
    {
      "cell_type": "markdown",
      "metadata": {},
      "source": [
        "## Print mesh statistics\nPrint the mesh statistics in a format suitable for reading.\nA JSON serializer can print nested dictionary content with indentation\nand formatting.\n\n"
      ]
    },
    {
      "cell_type": "code",
      "execution_count": null,
      "metadata": {
        "collapsed": false
      },
      "outputs": [],
      "source": [
        "print(\"Mesh statistics:\", json.dumps(stats, indent=2))"
      ]
    },
    {
      "cell_type": "markdown",
      "metadata": {},
      "source": [
        "## Save mesh\nSave the mesh.\n\n"
      ]
    },
    {
      "cell_type": "code",
      "execution_count": null,
      "metadata": {
        "collapsed": false
      },
      "outputs": [],
      "source": [
        "turbogrid.save_mesh(filename=\"rotor37.gtm\")"
      ]
    },
    {
      "cell_type": "markdown",
      "metadata": {},
      "source": [
        "## Quit session\nQuit the TurboGrid session.\n\n"
      ]
    },
    {
      "cell_type": "code",
      "execution_count": null,
      "metadata": {
        "collapsed": false
      },
      "outputs": [],
      "source": [
        "turbogrid.quit()"
      ]
    }
  ],
  "metadata": {
    "kernelspec": {
      "display_name": "Python 3",
      "language": "python",
      "name": "python3"
    },
    "language_info": {
      "codemirror_mode": {
        "name": "ipython",
        "version": 3
      },
      "file_extension": ".py",
      "mimetype": "text/x-python",
      "name": "python",
      "nbconvert_exporter": "python",
      "pygments_lexer": "ipython3",
      "version": "3.10.18"
    }
  },
  "nbformat": 4,
  "nbformat_minor": 0
}